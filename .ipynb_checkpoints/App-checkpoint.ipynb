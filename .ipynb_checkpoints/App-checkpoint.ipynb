{
 "cells": [
  {
   "cell_type": "code",
   "execution_count": 1,
   "metadata": {},
   "outputs": [],
   "source": [
    "from flask import Flask, render_template,request\n",
    "import plotly\n",
    "import plotly.graph_objs as go\n",
    "import plotly.express as px\n",
    "from sklearn.manifold import TSNE\n",
    "import pandas as pd\n",
    "import numpy as np\n",
    "import sys\n",
    "import pickle\n",
    "np.set_printoptions(threshold=sys.maxsize)\n",
    "import json\n",
    "app = Flask(__name__)"
   ]
  },
  {
   "cell_type": "code",
   "execution_count": 2,
   "metadata": {},
   "outputs": [],
   "source": [
    "data = pd.read_csv('creditcard.csv')\n",
    "tsne= pd.read_csv('tsneData.csv')"
   ]
  },
  {
   "cell_type": "code",
   "execution_count": 3,
   "metadata": {},
   "outputs": [],
   "source": [
    "def plotBar(column,layout):\n",
    "    trace = [\n",
    "        go.Bar(\n",
    "            x = ['NonFraud', 'Fraud'],\n",
    "            y = data[column].value_counts()\n",
    "        )\n",
    "    ]\n",
    "    \n",
    "    layout = go.Layout(title = layout['title'],\n",
    "                   xaxis_title=layout['x_axis'],\n",
    "                   yaxis_title=layout['y_axis'],\n",
    "                    width=600,\n",
    "                    height=600)\n",
    "    fig = go.Figure(data = trace, layout = layout)\n",
    "    bar = {'trace':trace, 'layout':layout}\n",
    "    graphJSON = json.dumps(bar, cls=plotly.utils.PlotlyJSONEncoder)\n",
    "\n",
    "    return graphJSON"
   ]
  },
  {
   "cell_type": "code",
   "execution_count": 4,
   "metadata": {},
   "outputs": [],
   "source": [
    "def plotBarh(Xs, Ys, layouts):\n",
    "    trace = [\n",
    "        go.Bar(\n",
    "            x=Xs,\n",
    "            y=Ys,\n",
    "            orientation='h')      \n",
    "    ]\n",
    "    \n",
    "    layout = go.Layout(title = layouts['title'],\n",
    "                   xaxis_title=layouts['x_axis'],\n",
    "                   yaxis_title=layouts['y_axis'],\n",
    "                    height=600)\n",
    "    fig = go.Figure(data = trace, layout = layout)\n",
    "    bar = {'trace':trace, 'layout':layout}\n",
    "    graphJSON = json.dumps(bar, cls=plotly.utils.PlotlyJSONEncoder)\n",
    "\n",
    "    return graphJSON"
   ]
  },
  {
   "cell_type": "code",
   "execution_count": 5,
   "metadata": {},
   "outputs": [],
   "source": [
    "\n",
    "def scatterplot(y0, y1,layouts):\n",
    "    trace = go.Scatter(\n",
    "            x=y0[:,0],\n",
    "            y=y0[:,1],\n",
    "            name='No Fraud',\n",
    "            mode='markers',\n",
    "            marker_color='rgba(152, 0, 0, .8)' \n",
    "        )\n",
    "    \n",
    "    trace2 = go.Scatter(\n",
    "            x=y1[:,0],\n",
    "            y=y1[:,1],\n",
    "            name='Fraud',\n",
    "            mode='markers',\n",
    "            marker_color='rgba(12, 150, 150, .8)'  \n",
    "        )\n",
    "    \n",
    "    \n",
    "    layout = go.Layout(title = layouts['title'],\n",
    "                   xaxis_title=layouts['x_axis'],\n",
    "                   yaxis_title=layouts['y_axis'],\n",
    "                    height=600)\n",
    "    fig = go.Figure(data = [trace, trace2], layout = layout)\n",
    "    bar = {'trace':trace, 'layout':layout}\n",
    "    graphJSON = json.dumps(fig, cls=plotly.utils.PlotlyJSONEncoder)\n",
    "\n",
    "    return graphJSON"
   ]
  },
  {
   "cell_type": "code",
   "execution_count": 6,
   "metadata": {},
   "outputs": [],
   "source": [
    "def getheatMap(dataSet, layout):\n",
    "    layout = go.Layout(title = layout['title'],\n",
    "                   xaxis_title=layout['x_axis'],\n",
    "                   yaxis_title=layout['y_axis'],\n",
    "                    height=1000)\n",
    "    \n",
    "    trace = go.Heatmap(\n",
    "                    z=dataSet.values,\n",
    "                    x=dataSet.columns,\n",
    "                    y=dataSet.columns,\n",
    "                   colorscale='Viridis')\n",
    "    \n",
    "    fig = go.Figure(data = trace, layout = layout)\n",
    "    return json.dumps(fig, cls=plotly.utils.PlotlyJSONEncoder)"
   ]
  },
  {
   "cell_type": "code",
   "execution_count": 7,
   "metadata": {},
   "outputs": [],
   "source": [
    "# on prend le meme nombre de données frauduleuses et normales\n",
    "fraud_df = data.loc[data['Class'] == 1]\n",
    "non_fraud_df = data.loc[data['Class'] == 0][:492]\n",
    "\n",
    "normal_distributed_df = pd.concat([fraud_df, non_fraud_df])\n",
    "new_df = normal_distributed_df.sample(frac=1, random_state=42)"
   ]
  },
  {
   "cell_type": "code",
   "execution_count": 8,
   "metadata": {},
   "outputs": [
    {
     "name": "stderr",
     "output_type": "stream",
     "text": [
      "C:\\Users\\um6p\\anaconda3\\lib\\site-packages\\sklearn\\base.py:318: UserWarning:\n",
      "\n",
      "Trying to unpickle estimator DecisionTreeClassifier from version 0.23.2 when using version 0.22.1. This might lead to breaking code or invalid results. Use at your own risk.\n",
      "\n",
      "C:\\Users\\um6p\\anaconda3\\lib\\site-packages\\sklearn\\base.py:318: UserWarning:\n",
      "\n",
      "Trying to unpickle estimator RandomForestClassifier from version 0.23.2 when using version 0.22.1. This might lead to breaking code or invalid results. Use at your own risk.\n",
      "\n"
     ]
    }
   ],
   "source": [
    "model=pickle.load(open('model.pkl','rb'))"
   ]
  },
  {
   "cell_type": "code",
   "execution_count": 9,
   "metadata": {},
   "outputs": [],
   "source": [
    "@app.route('/')\n",
    "def index():\n",
    "    return render_template('index.html')"
   ]
  },
  {
   "cell_type": "code",
   "execution_count": 10,
   "metadata": {},
   "outputs": [],
   "source": [
    "@app.route('/stats')\n",
    "def stats():\n",
    "    lableBar = plotBar('Class', {\"title\": \"Transaction Class Distribution\", \"x_axis\": \"class\", \"y_axis\": \"Frequency\"})\n",
    "    heatmap = getheatMap(new_df.corr(), {\"title\": \"Heatmap\", \"x_axis\": \"Features\", \"y_axis\": \"Features\"})\n",
    "    tsnePlot = scatterplot(tsne[tsne['Y_gans'] == 0].values, tsne[tsne['Y_gans'] == 1].values,{\"title\": \"Tsne Plot\", \"x_axis\": \"First Component\", \"y_axis\": \"Second Component\"})\n",
    "    lableBarh = plotBarh([0.030, 0.060, 0.068, 0.080, 0.090, 0.100, 0.15, 0.200], ['V7' ,'V3' ,'V11' ,'V4' ,'V12' ,'V17' ,'V10' ,'V14'], {\"title\": \"feature importance\", \"x_axis\": \"Relative importance\", \"y_axis\": \"Features\"})\n",
    "    return render_template('stats.html', plot=lableBar, heatmap = heatmap, featureImportance=lableBarh, tsne = tsnePlot)"
   ]
  },
  {
   "cell_type": "code",
   "execution_count": 11,
   "metadata": {},
   "outputs": [],
   "source": [
    "@app.route('/result', methods=['POST'])\n",
    "def result():\n",
    "    \n",
    "    \"\"\"\n",
    "    features=[float(x) for x in request.form.values()]\n",
    "    final_features = [np.array(features)]\n",
    "    \"\"\"\n",
    "    features = [request.form.get('v3') ,request.form.get('v4')  ,request.form.get('v7') \n",
    "                               ,request.form.get('v10') ,request.form.get('v11') ,request.form.get('v12') \n",
    "                               ,request.form.get('v14') ,request.form.get('v17') ]\n",
    "    final_features = [np.array(features)]\n",
    "    if model.predict(final_features) == 0:\n",
    "        proba = model.predict_proba(final_features)[0][0]\n",
    "        pred = \"NO Fraud\"\n",
    "        prediction_text = 'The result of this transaction is <br/> {} with a probability of <br/> {}%'.format(pred,proba)\n",
    "    elif model.predict(final_features) == 1:\n",
    "        proba = model.predict_proba(final_features)[0][1]\n",
    "        pred = \"Fraud\"\n",
    "        prediction_text = 'The result of this transaction is <br/> {} with a probability of<br/> {}% '.format(pred,proba)\n",
    "    else :\n",
    "        prediction_text = \"\"\n",
    "    return render_template('predict.html', prediction_text=prediction_text)\n"
   ]
  },
  {
   "cell_type": "code",
   "execution_count": 12,
   "metadata": {},
   "outputs": [],
   "source": [
    "@app.route('/predict')\n",
    "def predict():\n",
    "    return render_template('predict.html', prediction_text=None)"
   ]
  },
  {
   "cell_type": "code",
   "execution_count": 14,
   "metadata": {
    "scrolled": false
   },
   "outputs": [
    {
     "name": "stdout",
     "output_type": "stream",
     "text": [
      " * Serving Flask app \"__main__\" (lazy loading)\n",
      " * Environment: production\n",
      "   WARNING: This is a development server. Do not use it in a production deployment.\n",
      "   Use a production WSGI server instead.\n",
      " * Debug mode: on\n"
     ]
    },
    {
     "name": "stderr",
     "output_type": "stream",
     "text": [
      " * Running on http://127.0.0.1:5000/ (Press CTRL+C to quit)\n",
      "127.0.0.1 - - [09/Jan/2021 00:18:55] \"\u001b[33mGET /ajax-api/2.0/preview/mlflow/experiments/list HTTP/1.1\u001b[0m\" 404 -\n",
      "127.0.0.1 - - [09/Jan/2021 00:18:55] \"\u001b[33mGET /static-files/static/media/default-error.f8c411a9.svg HTTP/1.1\u001b[0m\" 404 -\n"
     ]
    }
   ],
   "source": [
    "if __name__ == \"__main__\":\n",
    "    app.run(debug=True, use_reloader=False)"
   ]
  },
  {
   "cell_type": "code",
   "execution_count": null,
   "metadata": {},
   "outputs": [],
   "source": []
  },
  {
   "cell_type": "code",
   "execution_count": null,
   "metadata": {},
   "outputs": [],
   "source": []
  },
  {
   "cell_type": "code",
   "execution_count": null,
   "metadata": {},
   "outputs": [],
   "source": []
  }
 ],
 "metadata": {
  "kernelspec": {
   "display_name": "Python 3",
   "language": "python",
   "name": "python3"
  },
  "language_info": {
   "codemirror_mode": {
    "name": "ipython",
    "version": 3
   },
   "file_extension": ".py",
   "mimetype": "text/x-python",
   "name": "python",
   "nbconvert_exporter": "python",
   "pygments_lexer": "ipython3",
   "version": "3.7.6"
  }
 },
 "nbformat": 4,
 "nbformat_minor": 4
}
